{
  "nbformat": 4,
  "nbformat_minor": 0,
  "metadata": {
    "colab": {
      "provenance": [],
      "authorship_tag": "ABX9TyMVeIuSDd7AXGVGKVIyGUw5",
      "include_colab_link": true
    },
    "kernelspec": {
      "name": "python3",
      "display_name": "Python 3"
    },
    "language_info": {
      "name": "python"
    }
  },
  "cells": [
    {
      "cell_type": "markdown",
      "metadata": {
        "id": "view-in-github",
        "colab_type": "text"
      },
      "source": [
        "<a href=\"https://colab.research.google.com/github/cesaradrianpenalozaalarcon-byte/Simulacion-2/blob/main/Variables_de_control.ipynb\" target=\"_parent\"><img src=\"https://colab.research.google.com/assets/colab-badge.svg\" alt=\"Open In Colab\"/></a>"
      ]
    },
    {
      "cell_type": "code",
      "execution_count": 27,
      "metadata": {
        "id": "QT29CgZ45Co5"
      },
      "outputs": [],
      "source": [
        "import matplotlib.pyplot as plt\n",
        "import numpy as np\n",
        "import random as rd"
      ]
    },
    {
      "cell_type": "code",
      "source": [
        "def f(x):\n",
        "  return (1/(1+x**2))\n",
        ""
      ],
      "metadata": {
        "id": "JA3GvcoA5TnW"
      },
      "execution_count": 28,
      "outputs": []
    },
    {
      "cell_type": "code",
      "source": [
        "def g(x):\n",
        "  return (x)\n"
      ],
      "metadata": {
        "id": "xuNQrrZU6DIH"
      },
      "execution_count": 29,
      "outputs": []
    },
    {
      "cell_type": "code",
      "source": [
        "def X(N):\n",
        "  a=[]\n",
        "  for i in range (N):\n",
        "    u=rd.random()\n",
        "    a.append(f(u))\n",
        "  return np.mean(a),np.var(a),np.std(a)"
      ],
      "metadata": {
        "id": "YgmhnOAGOelO"
      },
      "execution_count": 30,
      "outputs": []
    },
    {
      "cell_type": "code",
      "source": [
        "def Y(M):\n",
        "  b=[]\n",
        "  for i in range (M):\n",
        "    w=rd.random()\n",
        "    b.append(g(w))\n",
        "  return np.mean(b),np.var(b),np.std(b)\n"
      ],
      "metadata": {
        "id": "6RQRaMjU5r0V"
      },
      "execution_count": 31,
      "outputs": []
    },
    {
      "cell_type": "code",
      "source": [
        "r1=X(1000)[0]\n",
        "r2=Y(1000)[0]\n",
        "r3=Y(1000)[1]\n",
        "print(\"Con esto tenemos la media de X, la media de Y y la varianza de Y\",r1,r2,r3)\n",
        "#Calcularemos la covarianza para sacar el coeficiente c"
      ],
      "metadata": {
        "colab": {
          "base_uri": "https://localhost:8080/"
        },
        "id": "K3ayzvSP8lcb",
        "outputId": "7a8f3bfa-25fe-47bc-b2fb-24ff16e2ff37"
      },
      "execution_count": 32,
      "outputs": [
        {
          "output_type": "stream",
          "name": "stdout",
          "text": [
            "Con esto tenemos la media de X, la media de Y y la varianza de Y 0.7814065255370385 0.5006778156665078 0.08310022552196318\n"
          ]
        }
      ]
    },
    {
      "cell_type": "code",
      "source": [
        "def covarianza(K):\n",
        "  c=[]\n",
        "  d=[]\n",
        "  for i in range (K):\n",
        "    u1=rd.random()\n",
        "    c.append(f(u1))\n",
        "    d.append(g(u1))\n",
        "    cov = np.sum((c - r1) * (d - r2)) / (K - 1)\n",
        "\n",
        "  return cov\n"
      ],
      "metadata": {
        "id": "ZcQe5RE2BoOs"
      },
      "execution_count": 33,
      "outputs": []
    },
    {
      "cell_type": "code",
      "source": [
        "print(\"La covarianza es:\",covarianza(1000))\n",
        "c=-covarianza(1000)/r3\n",
        "print(\"El coeficiente de correlacion es:\",c)"
      ],
      "metadata": {
        "colab": {
          "base_uri": "https://localhost:8080/"
        },
        "id": "o5kq7X3VCl3N",
        "outputId": "036ca977-b969-4f0e-e101-a23a37269963"
      },
      "execution_count": 35,
      "outputs": [
        {
          "output_type": "stream",
          "name": "stdout",
          "text": [
            "La covarianza es: -0.045466602329887966\n",
            "El coeficiente de correlacion es: 0.5364377690943319\n"
          ]
        }
      ]
    },
    {
      "cell_type": "code",
      "source": [
        "def metodo_variable_de_control(H):\n",
        "  e=[]\n",
        "  for i in range (H):\n",
        "    u2=rd.random()\n",
        "    e.append(f(u2)+c*(g(u2)-r2))\n",
        "\n",
        "  return np.mean(e),np.var(e),np.std(e)"
      ],
      "metadata": {
        "id": "obZ90bDXGJkK"
      },
      "execution_count": 46,
      "outputs": []
    },
    {
      "cell_type": "code",
      "source": [
        "#Comparando resultados de la media de z y x, deberian de ser iguales\n",
        "print(\"Valor de media de x y de Z\",r1,metodo_variable_de_control(1000)[0])\n",
        "print(\"Resultado de varianza\",metodo_variable_de_control(1000)[1])\n",
        "print(\"Comparacion metodo de montecarlo vs variable de control\")\n",
        "print(\"Metodo de montecarlo\",X(1000)[1])\n",
        "print(\"Variable de control\",metodo_variable_de_control(1000)[1])\n",
        "print(\"El Porcentaje de reduccion de varianza es:\", (X(1000)[1]-metodo_variable_de_control(1000)[1])/X(1000)[1]*100,\"%\")\n",
        "#"
      ],
      "metadata": {
        "colab": {
          "base_uri": "https://localhost:8080/"
        },
        "id": "D13BrG_cFEoQ",
        "outputId": "bb0598a0-b379-41b6-ed0f-1424f4fb64e0"
      },
      "execution_count": 51,
      "outputs": [
        {
          "output_type": "stream",
          "name": "stdout",
          "text": [
            "Valor de media de x y de Z 0.7814065255370385 0.784411157028955\n",
            "Resultado de varianza 0.00032168388205490217\n",
            "Comparacion metodo de montecarlo vs variable de control\n",
            "Metodo de montecarlo 0.026595837982025507\n",
            "Variable de control 0.00034237107888359606\n",
            "El Porcentaje de reduccion de varianza es: 101.29008033594803 %\n"
          ]
        }
      ]
    }
  ]
}