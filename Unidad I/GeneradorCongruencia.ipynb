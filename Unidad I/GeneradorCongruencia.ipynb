{
  "cells": [
    {
      "cell_type": "code",
      "execution_count": null,
      "metadata": {
        "id": "Yu02-pH0OaK0"
      },
      "outputs": [],
      "source": [
        "import tabulate"
      ]
    },
    {
      "cell_type": "code",
      "execution_count": null,
      "metadata": {
        "id": "8NSfKfZpOaK3"
      },
      "outputs": [],
      "source": [
        "def generador(a,b,m,x0):\n",
        "    x1=(a*x0+b) %m\n",
        "    return x1"
      ]
    },
    {
      "cell_type": "code",
      "execution_count": null,
      "metadata": {
        "id": "Ot5VM2oiOaK4"
      },
      "outputs": [],
      "source": [
        "n=64\n",
        "a=5\n",
        "b=7\n",
        "m=64\n",
        "x0=1\n",
        "\n",
        "muestra=[]\n",
        "datos=[]\n",
        "\n",
        "for i in range(n):\n",
        "    nuevo=generador(a,b,m,x0)\n",
        "    muestra.append([i,x0,nuevo/64])\n",
        "    datos.append(x0/64)\n",
        "    x0=nuevo\n",
        "\n",
        "encabezados=[\"i\", \"x_i\", \"X_{i+1}\"]\n",
        "print(tabulate.tabulate(muestra, headers=encabezados,tablefmt=\"psql\",numalign=\"center\"))"
      ]
    },
    {
      "cell_type": "code",
      "execution_count": null,
      "metadata": {
        "id": "ioN3Jw-JOaK6"
      },
      "outputs": [],
      "source": [
        "print(datos)"
      ]
    },
    {
      "cell_type": "code",
      "execution_count": 5,
      "metadata": {
        "id": "495x-Lg0OaK7",
        "outputId": "20ee7944-4125-48bb-9b2f-11d2602f8294",
        "colab": {
          "base_uri": "https://localhost:8080/"
        }
      },
      "outputs": [
        {
          "output_type": "stream",
          "name": "stdout",
          "text": [
            "0.6308166428993874\n"
          ]
        }
      ],
      "source": [
        "import numpy as np\n",
        "import matplotlib.pyplot as plt\n",
        "import random as rd\n",
        "N=100000 #este sera el numero de experimentos de nuestro algoritmo, entre mas, mejor\n",
        "a=0\n",
        "b=1\n",
        "def g(u):\n",
        "  return np.sqrt(np.arctan(u)) # primero definimos la funcion que queremos ,en este caso la raiz cuadrada del arco tangente\n",
        "\n",
        "y_valores = [] # Una lista vacia para meter los valores de la funcion\n",
        "for i in range (N):\n",
        "  u=rd.uniform(0,1)\n",
        "  x=a+u*(b-a)\n",
        "  y=g(x)\n",
        "  y_valores.append(y)\n",
        "y_mean=np.mean(y_valores) #Calculamos la media de los valores de la funcion, esto es del estimador\n",
        "print(y_mean*(b-a))\n"
      ]
    },
    {
      "cell_type": "code",
      "source": [
        "import numpy as np\n",
        "import matplotlib.pyplot as plt\n",
        "import random as rd\n",
        "N=1000 #este sera el numero de experimentos de nuestro algoritmo, entre mas, mejor\n",
        "a=0\n",
        "b=1\n",
        "def g(u):\n",
        "  return np.sqrt(np.arctan(u)) # primero definimos la funcion que queremos ,en este caso la raiz cuadrada del arco tangente\n",
        "\n",
        "y_valores = [] # Una lista vacia para meter los valores de la funcion\n",
        "z_valores=[]\n",
        "for i in range(1000):#le ponemos un for para calcular la varianza de las medias\n",
        " for i in range (N):\n",
        "   u=rd.uniform(0,1)\n",
        "   x=a+u*(b-a)\n",
        "   y=g(x)\n",
        "   y_valores.append(y)\n",
        " z_valores.append(np.mean(y_valores))\n",
        "plt.plot(z_valores)\n",
        "plt.show()\n",
        "\n"
      ],
      "metadata": {
        "id": "RCLvtFlkTFv5",
        "outputId": "b654793b-11e8-4fff-ef11-983cbbc59176",
        "colab": {
          "base_uri": "https://localhost:8080/",
          "height": 430
        }
      },
      "execution_count": 9,
      "outputs": [
        {
          "output_type": "display_data",
          "data": {
            "text/plain": [
              "<Figure size 640x480 with 1 Axes>"
            ],
            "image/png": "[encoded data removed]"
          },
          "metadata": {}
        }
      ]
    }
  ],
  "metadata": {
    "kernelspec": {
      "display_name": "Python 3",
      "language": "python",
      "name": "python3"
    },
    "language_info": {
      "codemirror_mode": {
        "name": "ipython",
        "version": 3
      },
      "file_extension": ".py",
      "mimetype": "text/x-python",
      "name": "python",
      "nbconvert_exporter": "python",
      "pygments_lexer": "ipython3",
      "version": "3.8.3"
    },
    "colab": {
      "provenance": []
    }
  },
  "nbformat": 4,
  "nbformat_minor": 0
}