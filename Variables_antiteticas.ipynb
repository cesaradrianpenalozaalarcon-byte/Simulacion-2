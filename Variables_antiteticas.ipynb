{
  "nbformat": 4,
  "nbformat_minor": 0,
  "metadata": {
    "colab": {
      "provenance": [],
      "authorship_tag": "ABX9TyMzoV4JOg9WYQ5QSOJTlz9Y",
      "include_colab_link": true
    },
    "kernelspec": {
      "name": "python3",
      "display_name": "Python 3"
    },
    "language_info": {
      "name": "python"
    }
  },
  "cells": [
    {
      "cell_type": "markdown",
      "metadata": {
        "id": "view-in-github",
        "colab_type": "text"
      },
      "source": [
        "<a href=\"https://colab.research.google.com/github/cesaradrianpenalozaalarcon-byte/Simulacion-2/blob/main/Variables_antiteticas.ipynb\" target=\"_parent\"><img src=\"https://colab.research.google.com/assets/colab-badge.svg\" alt=\"Open In Colab\"/></a>"
      ]
    },
    {
      "cell_type": "code",
      "execution_count": 22,
      "metadata": {
        "id": "4KPyNFvdJxzi"
      },
      "outputs": [],
      "source": [
        "import numpy as np #estas son las librerias de nuestras funciones\n",
        "import matplotlib.pyplot as plt\n",
        "import random as rd\n",
        "import timeit as timeit #Se ocupa para medir el tiempo"
      ]
    },
    {
      "cell_type": "code",
      "source": [
        "def f(x): # Esta es nuestra funcion la raiz cuadrada de arcotangente\n",
        "  return np.sqrt(np.arctan(x))"
      ],
      "metadata": {
        "id": "nwFEF0k_OTh9"
      },
      "execution_count": 23,
      "outputs": []
    },
    {
      "cell_type": "code",
      "source": [
        "def Montecarlo_crudo_antitetica(N):   #Defnimos el montecarlo crudo\n",
        "  a=[] #Una lista para meter los valores de la funcion evaluados en un numero aleatorio\n",
        "  for i in range (N): # Un for para repetir N veces el experimento\n",
        "    u=rd.random() #Evaluaremos la funcion en un numero aleatoria para eso necesitamos random\n",
        "    a.append((f(u)+f(1-u))/2) #Guardamos los valores de la funcion en la lista anterior\n",
        "  return np.mean(a),np.var(a),np.std(a) #Lo que se nos pide"
      ],
      "metadata": {
        "id": "YgmhnOAGOelO"
      },
      "execution_count": 24,
      "outputs": []
    },
    {
      "cell_type": "code",
      "source": [
        "def Montecarlo_crudo(M):   #Defnimos el montecarlo crudo\n",
        "  b=[] #Una lista para meter los valores de la funcion evaluados en un numero aleatorio\n",
        "  for i in range (M): # Un for para repetir N veces el experimento\n",
        "    u=rd.random() #Evaluaremos la funcion en un numero aleatoria para eso necesitamos random\n",
        "    b.append(f(u)) #Guardamos los valores de la funcion en la lista anterior\n",
        "  return np.mean(b),np.var(b),np.std(b) #Lo que se nos pide"
      ],
      "metadata": {
        "id": "KPn43bNL9kcm"
      },
      "execution_count": 25,
      "outputs": []
    },
    {
      "cell_type": "code",
      "source": [
        "resultado1=Montecarlo_crudo_antitetica(1000)#La funcion evaluada\n",
        "resultado2=Montecarlo_crudo(1000)\n",
        "print(resultado1) #metodo de montecarlo crudo con variable antitetica\n",
        "print(resultado2) #metodo de montecarlo crudo solo si nada"
      ],
      "metadata": {
        "colab": {
          "base_uri": "https://localhost:8080/"
        },
        "id": "0YAswk2Fa8bp",
        "outputId": "bbc3d313-1326-4f46-d99c-0930ef4e1ece"
      },
      "execution_count": 26,
      "outputs": [
        {
          "output_type": "stream",
          "name": "stdout",
          "text": [
            "(np.float64(0.6286247561598527), np.float64(0.002966233050767774), np.float64(0.054463134786456924))\n",
            "(np.float64(0.625236775532625), np.float64(0.041906323999197095), np.float64(0.20471034170065053))\n"
          ]
        }
      ]
    },
    {
      "cell_type": "code",
      "source": [
        "def Montecarlo_crudo_antitetica_1(N,n): #Hacemos una segunda funcion donde tenemos que ponerle un for a la anterior\n",
        "  starttime1=timeit.default_timer() #para contar el tiempo\n",
        "  c=[]\n",
        "  for i in range (n):\n",
        "    e=Montecarlo_crudo_antitetica(N)\n",
        "    c.append(e[0]) #Usar e[0] porque es la media la que queremos\n",
        "  endtime1=timeit.default_timer()\n",
        "  t1=endtime1-starttime1\n",
        "  return np.mean(c),np.var(c),np.std(c),t1"
      ],
      "metadata": {
        "id": "t6kimWJtaCjC"
      },
      "execution_count": 37,
      "outputs": []
    },
    {
      "cell_type": "code",
      "source": [
        "def Montecarlo_crudo_1(M,m): #Hacemos una segunda funcion donde tenemos que ponerle un for a la anterior\n",
        "  starttime1=timeit.default_timer() #para contar el tiempo\n",
        "  d=[]\n",
        "  for i in range (m):\n",
        "    h=Montecarlo_crudo(M)\n",
        "    d.append(h[0]) #Usar h[0] porque es la media la que queremos\n",
        "  endtime1=timeit.default_timer()\n",
        "  t1=endtime1-starttime1\n",
        "  return np.mean(d),np.var(d),np.std(d),t1"
      ],
      "metadata": {
        "id": "-prmhNrV_BHf"
      },
      "execution_count": 38,
      "outputs": []
    },
    {
      "cell_type": "code",
      "source": [
        "resultado3=Montecarlo_crudo_antitetica_1(1000,1000) #La funcion antitetica\n",
        "resultado4=Montecarlo_crudo_1(1000,1000) #La funcion solita\n",
        "print(resultado3)\n",
        "print(resultado4)\n",
        "print(100*(resultado4[1]-resultado3[1])/resultado4[1])#Comparamos la reduccion de las varianzas, primero llamamos solamente a la varianza y despues las dividimos\n",
        "#Nos podemos dar cuenta que el metodo de variables antitetica reduce en un 94% la varianza con respecto al metodo sin antiteticas\n",
        "#Esto es para el caso de montecarlo crudo"
      ],
      "metadata": {
        "colab": {
          "base_uri": "https://localhost:8080/"
        },
        "id": "rCdvVCx8ax8b",
        "outputId": "0b49d7a8-6db6-49da-f8e4-4e4635fb4fff"
      },
      "execution_count": 43,
      "outputs": [
        {
          "output_type": "stream",
          "name": "stdout",
          "text": [
            "(np.float64(0.6298387626554913), np.float64(2.847887088811946e-06), np.float64(0.0016875683952989715), 6.179474428000049)\n",
            "(np.float64(0.6296782380104304), np.float64(4.2438132546273656e-05), np.float64(0.006514455660012865), 2.5699730370001816)\n",
            "93.2893204343837\n"
          ]
        }
      ]
    },
    {
      "cell_type": "code",
      "source": [
        "def Montecarlo_aciertoerror(W): #Se sigue algo muy parecido a lo anterior, primero definimos el montecarlo de puntitos\n",
        " aciertos=0 #Iremos sumando los aciertos que sean menores que f(x) para sacar asi la integral\n",
        "\n",
        " for i in range (W):\n",
        "     x= rd.random()\n",
        "     y= rd.random()\n",
        "     if y<f(x):\n",
        "      aciertos=aciertos+1\n",
        " return aciertos/W #Dividimos el numero de puntos por debajo de la grafica por el numero de puntos totales\n"
      ],
      "metadata": {
        "id": "Z49Oj7aaEpHC"
      },
      "execution_count": 52,
      "outputs": []
    },
    {
      "cell_type": "code",
      "source": [
        "def Montecarlo_aciertoerror_antitetica(Q): #Se sigue algo muy parecido a lo anterior, primero definimos el montecarlo de puntitos\n",
        " aciertos1=0 #Iremos sumando los aciertos que sean menores que f(x) para sacar asi la integral\n",
        " aciertos2=0\n",
        " for i in range (Q):\n",
        "     x= rd.random()\n",
        "     y= rd.random()\n",
        "     if y<f(x):\n",
        "      aciertos1=aciertos1+1\n",
        "     if y<f(1-x):\n",
        "      aciertos2=aciertos2+1\n",
        " return ((aciertos1+aciertos2)/(2*Q)) #Dividimos el numero de puntos por debajo de la grafica por el numero de puntos totales\n",
        "\n"
      ],
      "metadata": {
        "id": "vm3GdYYYGnBw"
      },
      "execution_count": 90,
      "outputs": []
    },
    {
      "cell_type": "code",
      "source": [
        "def Montecarlo_aciertoerror1(W,w): #A la funcion anterior la repetimos con un for para haci reducir la varianza\n",
        "  starttime2=timeit.default_timer()#Para contar el tiempo\n",
        "  r=[]\n",
        "  for i in range (w):\n",
        "    k=Montecarlo_aciertoerror(W)\n",
        "    r.append(k)\n",
        "  endtime2=timeit.default_timer()\n",
        "  t2=endtime2-starttime2\n",
        "  return np.mean(r),np.var(r),np.std(r),t2\n"
      ],
      "metadata": {
        "id": "htZRw5ZDHV1t"
      },
      "execution_count": 54,
      "outputs": []
    },
    {
      "cell_type": "code",
      "source": [
        "def Montecarlo_aciertoerror_antitetica_1(Q,q): #A la funcion anterior la repetimos con un for para haci reducir la varianza\n",
        "  starttime2=timeit.default_timer()#Para contar el tiempo\n",
        "  l=[]\n",
        "  for i in range (q):\n",
        "    k1=Montecarlo_aciertoerror_antitetica(Q)\n",
        "    l.append(k1)\n",
        "  endtime2=timeit.default_timer()\n",
        "  t2=endtime2-starttime2\n",
        "  return np.mean(l),np.var(l),np.std(l),t2"
      ],
      "metadata": {
        "id": "LBpsVkdhFjfX"
      },
      "execution_count": 91,
      "outputs": []
    },
    {
      "cell_type": "code",
      "source": [
        "print(Montecarlo_aciertoerror1(1000,1000)) #La funcion evaluada\n",
        "print(Montecarlo_aciertoerror_antitetica_1(1000,1000)) #La funcion evaluada con antiteticas\n",
        "print((Montecarlo_aciertoerror1(1000,1000)[1]- Montecarlo_aciertoerror_antitetica_1(1000,1000)[1])*100/Montecarlo_aciertoerror1(1000,1000)[1])\n",
        "#Se noto una reduccion del 35% en la varianza usando antiteticas"
      ],
      "metadata": {
        "colab": {
          "base_uri": "https://localhost:8080/"
        },
        "id": "2X_IzboCGKWN",
        "outputId": "abf9aa0e-5167-48dc-cc96-590de6663a58"
      },
      "execution_count": 92,
      "outputs": [
        {
          "output_type": "stream",
          "name": "stdout",
          "text": [
            "(np.float64(0.630186), np.float64(0.0002240074040000004), np.float64(0.01496687689533125), 2.814785140000822)\n",
            "(np.float64(0.629948), np.float64(0.00015424779599999974), np.float64(0.012419653618358274), 4.4429600660005235)\n",
            "34.758186783141845\n"
          ]
        }
      ]
    }
  ]
}