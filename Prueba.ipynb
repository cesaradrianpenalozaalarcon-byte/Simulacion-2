{
  "nbformat": 4,
  "nbformat_minor": 0,
  "metadata": {
    "colab": {
      "provenance": [],
      "authorship_tag": "ABX9TyMilopx5aFbvxiJEMDxhmfm",
      "include_colab_link": true
    },
    "kernelspec": {
      "name": "python3",
      "display_name": "Python 3"
    },
    "language_info": {
      "name": "python"
    }
  },
  "cells": [
    {
      "cell_type": "markdown",
      "metadata": {
        "id": "view-in-github",
        "colab_type": "text"
      },
      "source": [
        "<a href=\"https://colab.research.google.com/github/cesaradrianpenalozaalarcon-byte/Simulacion-2/blob/main/Prueba.ipynb\" target=\"_parent\"><img src=\"https://colab.research.google.com/assets/colab-badge.svg\" alt=\"Open In Colab\"/></a>"
      ]
    },
    {
      "cell_type": "code",
      "execution_count": 49,
      "metadata": {
        "id": "4KPyNFvdJxzi"
      },
      "outputs": [],
      "source": [
        "import numpy as np #estas son las librerias de nuestras funciones\n",
        "import matplotlib.pyplot as plt\n",
        "import random as rd\n",
        "import timeit as timeit #Se ocupa para medir el tiempo"
      ]
    },
    {
      "cell_type": "code",
      "source": [
        "def f(x): # Esta es nuestra funcion la raiz cuadrada de arcotangente\n",
        "  return np.sqrt(np.arctan(x))"
      ],
      "metadata": {
        "id": "nwFEF0k_OTh9"
      },
      "execution_count": 50,
      "outputs": []
    },
    {
      "cell_type": "code",
      "source": [
        "def Montecarlo_crudo(N):   #Defnimos elmontecarlo crudo\n",
        "  a=[] #Una lista para meter los valores de la funcion evaluados en un numero aleatorio\n",
        "  for i in range (N): # Un for para repetir N veces el experimento\n",
        "    u=rd.random() #Evaluaremos la funcion en un numero aleatoria para eso necesitamos random\n",
        "    a.append(f(u)) #Guardamos los valores de la funcion en la lista anterior\n",
        "  return np.mean(a),np.var(a),np.std(a) #Lo que se nos pide"
      ],
      "metadata": {
        "id": "YgmhnOAGOelO"
      },
      "execution_count": 51,
      "outputs": []
    },
    {
      "cell_type": "code",
      "source": [
        "resultado1=Montecarlo_crudo(1000) #La funcion evaluada\n",
        "print(resultado1)"
      ],
      "metadata": {
        "colab": {
          "base_uri": "https://localhost:8080/"
        },
        "id": "0YAswk2Fa8bp",
        "outputId": "6e65f64d-fa46-4fcb-e1e9-3cc1bfb66cd0"
      },
      "execution_count": 52,
      "outputs": [
        {
          "output_type": "stream",
          "name": "stdout",
          "text": [
            "(np.float64(0.6340963667710692), np.float64(0.040739722803635074), np.float64(0.2018408353223774))\n"
          ]
        }
      ]
    },
    {
      "cell_type": "code",
      "source": [
        "def Montecarlo_crudo_1(N,n): #Hacemos una segunda funcion donde tenemos que ponerle un for a la anterior\n",
        "  starttime1=timeit.default_timer() #para contar el tiempo\n",
        "  b=[]\n",
        "  for i in range (n):\n",
        "    e=Montecarlo_crudo(N)\n",
        "    b.append(e[0]) #Usar e[0] porque es la media la que queremos\n",
        "  endtime1=timeit.default_timer()\n",
        "  t1=endtime1-starttime1\n",
        "  return np.mean(b),np.var(b),np.std(b),t1"
      ],
      "metadata": {
        "id": "t6kimWJtaCjC"
      },
      "execution_count": 66,
      "outputs": []
    },
    {
      "cell_type": "code",
      "source": [
        "resultado2=Montecarlo_crudo_1(1000,1000) #La funcion evaluada\n",
        "print(resultado2)"
      ],
      "metadata": {
        "colab": {
          "base_uri": "https://localhost:8080/"
        },
        "id": "rCdvVCx8ax8b",
        "outputId": "ecd9e48b-06b0-4e63-ac49-eb1ec3628367"
      },
      "execution_count": 70,
      "outputs": [
        {
          "output_type": "stream",
          "name": "stdout",
          "text": [
            "(np.float64(0.629978392295295), np.float64(4.205816725232086e-05), np.float64(0.006485226846635425), 2.285227877000125)\n"
          ]
        }
      ]
    },
    {
      "cell_type": "code",
      "source": [
        "def Montecarlo_aciertoerror(M): #Se sigue algo muy parecido a lo anterior, primero definimos el montecarlo de puntitos\n",
        " aciertos=0 #Iremos sumando los aciertos que sean menores que f(x) para sacar asi la integral\n",
        "\n",
        " for i in range (M):\n",
        "     x= rd.random()\n",
        "     y= rd.random()\n",
        "     if y<f(x):\n",
        "      aciertos=aciertos+1\n",
        " return aciertos/M #Dividimos el numero de puntos por debajo de la grafica por el numero de puntos totales"
      ],
      "metadata": {
        "id": "mTF8A-ltss-K"
      },
      "execution_count": 55,
      "outputs": []
    },
    {
      "cell_type": "code",
      "source": [
        "def Montecarlo_aciertoerror1(M,m): #A la funcion anterior la repetimos con un for para haci reducir la varianza\n",
        "  starttime2=timeit.default_timer()#Para contar el tiempo\n",
        "  c=[]\n",
        "  for i in range (m):\n",
        "    k=Montecarlo_aciertoerror(M)\n",
        "    c.append(k)\n",
        "  endtime2=timeit.default_timer()\n",
        "  t2=endtime2-starttime2\n",
        "  return np.mean(c),np.var(c),np.std(c),t2\n"
      ],
      "metadata": {
        "id": "P47tOEfld1jB"
      },
      "execution_count": 67,
      "outputs": []
    },
    {
      "cell_type": "code",
      "source": [
        "print(Montecarlo_aciertoerror1(1000,1000)) #La funcion evaluada"
      ],
      "metadata": {
        "colab": {
          "base_uri": "https://localhost:8080/"
        },
        "id": "Q6Ob4-1ogSIQ",
        "outputId": "deec5168-196c-4a62-eb26-97ba19a06639"
      },
      "execution_count": 69,
      "outputs": [
        {
          "output_type": "stream",
          "name": "stdout",
          "text": [
            "(np.float64(0.629928), np.float64(0.0002369628160000004), np.float64(0.015393596590790613), 2.0740217140000823)\n"
          ]
        }
      ]
    },
    {
      "cell_type": "code",
      "source": [
        "#Con estos resultados compararemos los diferentes metodos de montecarlo\n",
        "#Teta1 es el estimador del MC de acierto y error\n",
        "#Teta2 es el estimador del MC crudo\n",
        "#para comparar eficiencias se usara la formula que se nos dio\n",
        "print(Montecarlo_aciertoerror1(1000,1000)[1]*Montecarlo_aciertoerror1(1000,1000)[3]/Montecarlo_crudo_1(1000,1000)[1]*Montecarlo_crudo_1(1000,1000)[3])\n",
        "#El resultado es 24 por lo tanto el metodo de montecarlo crudo es mejor que el metodo de acierto y error"
      ],
      "metadata": {
        "colab": {
          "base_uri": "https://localhost:8080/"
        },
        "id": "MuwI61Czlvjd",
        "outputId": "cae2d9fd-b2d8-4c16-8d46-bd448fc62dba"
      },
      "execution_count": 76,
      "outputs": [
        {
          "output_type": "stream",
          "name": "stdout",
          "text": [
            "24.287511601473966\n"
          ]
        }
      ]
    }
  ]
}